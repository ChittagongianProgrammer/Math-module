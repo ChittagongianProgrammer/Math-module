{
 "cells": [
  {
   "cell_type": "code",
   "execution_count": 7,
   "metadata": {},
   "outputs": [
    {
     "name": "stdout",
     "output_type": "stream",
     "text": [
      "You are 21 years old\n",
      "You are 21 years old\n",
      "You are 21 years old\n"
     ]
    }
   ],
   "source": [
    "age = 21\n",
    "print(\"You are \" + str(age) + \" years old\") # String concatenation\n",
    "print(\"You are\", age, \"years old\") #seperate argument\n",
    "print(f\"You are {age} years old\") # f-string use"
   ]
  },
  {
   "cell_type": "markdown",
   "metadata": {},
   "source": [
    "Integer"
   ]
  },
  {
   "cell_type": "code",
   "execution_count": 2,
   "metadata": {},
   "outputs": [
    {
     "name": "stdout",
     "output_type": "stream",
     "text": [
      "You are 21 years old\n",
      "There are 2 players online\n",
      "You would like to buy 5 items\n"
     ]
    }
   ],
   "source": [
    "age = 21\n",
    "players = 2\n",
    "quantity = 5\n",
    "\n",
    "print(f\"You are {age} years old\")\n",
    "print(f\"There are {players} players online\")\n",
    "print(f\"You would like to buy {quantity} items\")"
   ]
  },
  {
   "cell_type": "markdown",
   "metadata": {},
   "source": [
    "Float"
   ]
  },
  {
   "cell_type": "code",
   "execution_count": 4,
   "metadata": {},
   "outputs": [
    {
     "name": "stdout",
     "output_type": "stream",
     "text": [
      "Your gpa is 3.2\n",
      "You ran 2.5 km\n",
      "Your meal deal is £3.5\n"
     ]
    }
   ],
   "source": [
    "gpa = 3.2\n",
    "distance = 2.5\n",
    "price = 3.50\n",
    "\n",
    "print(f\"Your gpa is {gpa}\")\n",
    "print(f\"You ran {distance} km\")\n",
    "print(f\"Your meal deal is £{price}\")"
   ]
  },
  {
   "cell_type": "markdown",
   "metadata": {},
   "source": [
    "String"
   ]
  },
  {
   "cell_type": "code",
   "execution_count": 5,
   "metadata": {},
   "outputs": [
    {
     "name": "stdout",
     "output_type": "stream",
     "text": [
      "Hello Abdulahi Yusuf\n",
      "You like burger\n",
      "Your email is: mynan69@gmail.com\n"
     ]
    }
   ],
   "source": [
    "Name = \"Abdulahi Yusuf\"\n",
    "food = \"burger\"\n",
    "email = \"mynan69@gmail.com\"\n",
    "\n",
    "print(f\"Hello {Name}\")\n",
    "print(f\"You like {food}\")\n",
    "print(f\"Your email is: {email}\")"
   ]
  },
  {
   "cell_type": "markdown",
   "metadata": {},
   "source": [
    "Boolean"
   ]
  },
  {
   "cell_type": "code",
   "execution_count": 7,
   "metadata": {},
   "outputs": [
    {
     "name": "stdout",
     "output_type": "stream",
     "text": [
      "You are True\n",
      "Is the item for sale?: False\n",
      "Game running: True\n",
      "The game is running\n"
     ]
    }
   ],
   "source": [
    "online = True\n",
    "for_sale = False\n",
    "running = True\n",
    "\n",
    "print(f\"You are {online}\")\n",
    "print(f\"Is the item for sale?: {for_sale}\")\n",
    "print(f\"Game running: {running}\")\n",
    "\n",
    "if running:\n",
    "    print(\"The game is running\")\n",
    "else:\n",
    "    print(\"The game is over\")"
   ]
  },
  {
   "cell_type": "markdown",
   "metadata": {},
   "source": [
    "Shorter way to make variables"
   ]
  },
  {
   "cell_type": "code",
   "execution_count": 10,
   "metadata": {},
   "outputs": [
    {
     "name": "stdout",
     "output_type": "stream",
     "text": [
      "1\n",
      "2\n",
      "3\n",
      "4\n",
      "4\n",
      "4\n"
     ]
    }
   ],
   "source": [
    "x,y,z = 1,2,3\n",
    "print(x)\n",
    "print(y)\n",
    "print(z)\n",
    "\n",
    "a = b = c = 4\n",
    "print(a)\n",
    "print(b)\n",
    "print(c)"
   ]
  },
  {
   "cell_type": "markdown",
   "metadata": {},
   "source": [
    "Typecasting = Converting a value of a data type to another"
   ]
  },
  {
   "cell_type": "code",
   "execution_count": null,
   "metadata": {},
   "outputs": [],
   "source": [
    "name = \"Abdi\"\n",
    "age = 22\n",
    "gpa = 2.4\n",
    "student = True\n",
    "\n",
    "print(type(age))\n",
    "print(type(gpa))\n",
    "print(type(student))\n",
    "print(type(name))\n",
    "\n",
    "age = float(age)\n",
    "print(age)\n",
    "print(type(age))\n",
    "\n",
    "gpa = int(gpa)\n",
    "print(gpa)\n",
    "print(type(gpa))\n",
    "\n",
    "student = str(student)\n",
    "print(student)\n",
    "print(type(student))\n",
    "\n",
    "name = bool(name)\n",
    "print(name)"
   ]
  },
  {
   "cell_type": "markdown",
   "metadata": {},
   "source": [
    "Implicit Typecasting - Data values can be converted via certain operations"
   ]
  },
  {
   "cell_type": "code",
   "execution_count": 19,
   "metadata": {},
   "outputs": [
    {
     "name": "stdout",
     "output_type": "stream",
     "text": [
      "1.0\n"
     ]
    }
   ],
   "source": [
    "x = 2\n",
    "y = 2.0\n",
    "\n",
    "x = x/y\n",
    "print(x)"
   ]
  }
 ],
 "metadata": {
  "kernelspec": {
   "display_name": "Python 3",
   "language": "python",
   "name": "python3"
  },
  "language_info": {
   "codemirror_mode": {
    "name": "ipython",
    "version": 3
   },
   "file_extension": ".py",
   "mimetype": "text/x-python",
   "name": "python",
   "nbconvert_exporter": "python",
   "pygments_lexer": "ipython3",
   "version": "3.11.7"
  }
 },
 "nbformat": 4,
 "nbformat_minor": 2
}
